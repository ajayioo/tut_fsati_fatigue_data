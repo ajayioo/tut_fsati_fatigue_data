{
 "cells": [
  {
   "cell_type": "markdown",
   "id": "0f8501d6-fadd-4d91-bb5c-23ca8d1e87fe",
   "metadata": {},
   "source": [
    "## loading libraries and dataset..."
   ]
  },
  {
   "cell_type": "code",
   "execution_count": 9,
   "id": "4c8ab6b9-91e4-4469-bffb-299238c5c435",
   "metadata": {},
   "outputs": [
    {
     "name": "stdout",
     "output_type": "stream",
     "text": [
      "Shape of sequence data: (65919, 10, 4)\n"
     ]
    }
   ],
   "source": [
    "import numpy as np\n",
    "import pandas as pd\n",
    "import tensorflow as tf\n",
    "from tensorflow.keras.models import Sequential\n",
    "from tensorflow.keras.layers import Input, LSTM, Dense, Dropout\n",
    "from sklearn.metrics import classification_report, confusion_matrix\n",
    "import shap\n",
    "import matplotlib.pyplot as plt\n",
    "import random, os\n",
    "from sklearn.linear_model import LogisticRegression\n",
    "\n",
    "# Loading and re-sorting for temporal order...\n",
    "df = pd.read_csv(\"C:/Users/LATITUDE E7470/Desktop/ajcodes/research/fatigueanalysis1/eye_features.csv\")\n",
    "df = df.sort_values(by='image_name').reset_index(drop=True)\n",
    "\n",
    "# Feature engineering\n",
    "df['ear_rolling_mean'] = df['ear'].rolling(window=5, min_periods=1).mean()\n",
    "df['ear_delta'] = df['ear'].diff().fillna(0)\n",
    "df['eye_closed'] = df['ear'].apply(lambda x: 1 if x < 0.21 else 0)\n",
    "\n",
    "# Choosing features for LSTM input\n",
    "features = df[['ear', 'ear_rolling_mean', 'ear_delta', 'eye_closed']].values\n",
    "labels = df['label'].values\n",
    "\n",
    "# Generating sequences...\n",
    "SEQ_LEN = 10\n",
    "X_seq, y_seq = [], []\n",
    "\n",
    "for i in range(len(features) - SEQ_LEN):\n",
    "    X_seq.append(features[i:i+SEQ_LEN])\n",
    "    y_seq.append(labels[i+SEQ_LEN - 1])  # use label of last frame\n",
    "\n",
    "X_seq = np.array(X_seq)\n",
    "y_seq = np.array(y_seq)\n",
    "\n",
    "print(\"Shape of sequence data:\", X_seq.shape)  # (samples, time_steps, features)\n"
   ]
  },
  {
   "cell_type": "markdown",
   "id": "848bc167-e254-4048-8bca-2a3c4201a193",
   "metadata": {},
   "source": [
    "## splitting into train/test set..."
   ]
  },
  {
   "cell_type": "code",
   "execution_count": 10,
   "id": "f0220375-30e8-458f-88b5-a1d807516418",
   "metadata": {},
   "outputs": [],
   "source": [
    "from sklearn.model_selection import train_test_split\n",
    "\n",
    "X_train, X_test, y_train, y_test = train_test_split(\n",
    "    X_seq, y_seq, test_size=0.3, random_state=42, stratify=y_seq\n",
    ")"
   ]
  },
  {
   "cell_type": "markdown",
   "id": "4f422fa9-cbc4-4102-abe3-437393de9926",
   "metadata": {},
   "source": [
    "## coding for LSTM Model..."
   ]
  },
  {
   "cell_type": "code",
   "execution_count": 11,
   "id": "18d79f93-4ac5-4fa4-b20d-022485e490ce",
   "metadata": {},
   "outputs": [
    {
     "name": "stdout",
     "output_type": "stream",
     "text": [
      "Epoch 1/10\n",
      "\u001b[1m721/721\u001b[0m \u001b[32m━━━━━━━━━━━━━━━━━━━━\u001b[0m\u001b[37m\u001b[0m \u001b[1m8s\u001b[0m 8ms/step - accuracy: 0.5476 - loss: 0.6867 - val_accuracy: 0.5715 - val_loss: 0.6672\n",
      "Epoch 2/10\n",
      "\u001b[1m721/721\u001b[0m \u001b[32m━━━━━━━━━━━━━━━━━━━━\u001b[0m\u001b[37m\u001b[0m \u001b[1m10s\u001b[0m 7ms/step - accuracy: 0.5714 - loss: 0.6696 - val_accuracy: 0.5877 - val_loss: 0.6621\n",
      "Epoch 3/10\n",
      "\u001b[1m721/721\u001b[0m \u001b[32m━━━━━━━━━━━━━━━━━━━━\u001b[0m\u001b[37m\u001b[0m \u001b[1m5s\u001b[0m 7ms/step - accuracy: 0.5789 - loss: 0.6657 - val_accuracy: 0.5844 - val_loss: 0.6580\n",
      "Epoch 4/10\n",
      "\u001b[1m721/721\u001b[0m \u001b[32m━━━━━━━━━━━━━━━━━━━━\u001b[0m\u001b[37m\u001b[0m \u001b[1m6s\u001b[0m 8ms/step - accuracy: 0.5885 - loss: 0.6611 - val_accuracy: 0.5980 - val_loss: 0.6517\n",
      "Epoch 5/10\n",
      "\u001b[1m721/721\u001b[0m \u001b[32m━━━━━━━━━━━━━━━━━━━━\u001b[0m\u001b[37m\u001b[0m \u001b[1m5s\u001b[0m 8ms/step - accuracy: 0.6052 - loss: 0.6536 - val_accuracy: 0.6218 - val_loss: 0.6417\n",
      "Epoch 6/10\n",
      "\u001b[1m721/721\u001b[0m \u001b[32m━━━━━━━━━━━━━━━━━━━━\u001b[0m\u001b[37m\u001b[0m \u001b[1m5s\u001b[0m 7ms/step - accuracy: 0.6137 - loss: 0.6454 - val_accuracy: 0.6302 - val_loss: 0.6356\n",
      "Epoch 7/10\n",
      "\u001b[1m721/721\u001b[0m \u001b[32m━━━━━━━━━━━━━━━━━━━━\u001b[0m\u001b[37m\u001b[0m \u001b[1m6s\u001b[0m 8ms/step - accuracy: 0.6184 - loss: 0.6415 - val_accuracy: 0.6363 - val_loss: 0.6349\n",
      "Epoch 8/10\n",
      "\u001b[1m721/721\u001b[0m \u001b[32m━━━━━━━━━━━━━━━━━━━━\u001b[0m\u001b[37m\u001b[0m \u001b[1m5s\u001b[0m 7ms/step - accuracy: 0.6228 - loss: 0.6394 - val_accuracy: 0.6395 - val_loss: 0.6317\n",
      "Epoch 9/10\n",
      "\u001b[1m721/721\u001b[0m \u001b[32m━━━━━━━━━━━━━━━━━━━━\u001b[0m\u001b[37m\u001b[0m \u001b[1m5s\u001b[0m 7ms/step - accuracy: 0.6239 - loss: 0.6377 - val_accuracy: 0.6373 - val_loss: 0.6326\n",
      "Epoch 10/10\n",
      "\u001b[1m721/721\u001b[0m \u001b[32m━━━━━━━━━━━━━━━━━━━━\u001b[0m\u001b[37m\u001b[0m \u001b[1m6s\u001b[0m 8ms/step - accuracy: 0.6280 - loss: 0.6361 - val_accuracy: 0.6427 - val_loss: 0.6301\n"
     ]
    }
   ],
   "source": [
    "model = Sequential([\n",
    "    Input(shape=(SEQ_LEN, X_seq.shape[2])),  # Defining input shape...\n",
    "    LSTM(64, return_sequences=False),\n",
    "    Dropout(0.3),\n",
    "    Dense(32, activation='relu'),\n",
    "    Dropout(0.2),\n",
    "    Dense(1, activation='sigmoid')\n",
    "])\n",
    "\n",
    "model.compile(loss='binary_crossentropy', optimizer='adam', metrics=['accuracy'])\n",
    "\n",
    "history = model.fit(X_train, y_train, epochs=10, batch_size=64, validation_data=(X_test, y_test))"
   ]
  },
  {
   "cell_type": "markdown",
   "id": "37192091-2ae6-48d1-b585-d315ba6aa9a0",
   "metadata": {},
   "source": [
    "## evaluating the LSTM Model...."
   ]
  },
  {
   "cell_type": "code",
   "execution_count": 12,
   "id": "38f3edd2-3776-4ea7-9aa7-7f0b98e9e077",
   "metadata": {},
   "outputs": [
    {
     "name": "stdout",
     "output_type": "stream",
     "text": [
      "\u001b[1m618/618\u001b[0m \u001b[32m━━━━━━━━━━━━━━━━━━━━\u001b[0m\u001b[37m\u001b[0m \u001b[1m2s\u001b[0m 2ms/step\n",
      "[[3241 5728]\n",
      " [1337 9470]]\n",
      "              precision    recall  f1-score   support\n",
      "\n",
      "           0       0.71      0.36      0.48      8969\n",
      "           1       0.62      0.88      0.73     10807\n",
      "\n",
      "    accuracy                           0.64     19776\n",
      "   macro avg       0.67      0.62      0.60     19776\n",
      "weighted avg       0.66      0.64      0.62     19776\n",
      "\n"
     ]
    }
   ],
   "source": [
    "seed = 42\n",
    "tf.random.set_seed(seed)\n",
    "np.random.seed(seed)\n",
    "random.seed(seed)\n",
    "os.environ['PYTHONHASHSEED'] = str(seed)\n",
    "\n",
    "y_pred_prob = model.predict(X_test)\n",
    "y_pred = (y_pred_prob > 0.5).astype(\"int32\")\n",
    "\n",
    "print(confusion_matrix(y_test, y_pred))\n",
    "print(classification_report(y_test, y_pred))"
   ]
  },
  {
   "cell_type": "markdown",
   "id": "b31149d2-792a-44f0-93ac-219d226d7ec0",
   "metadata": {},
   "source": [
    "## implementing SHAP for LSTM..."
   ]
  },
  {
   "cell_type": "code",
   "execution_count": 13,
   "id": "b129d2b2-7ef3-4a17-a94e-8262176817b4",
   "metadata": {},
   "outputs": [
    {
     "data": {
      "application/vnd.jupyter.widget-view+json": {
       "model_id": "66dd271719dd4e518c55195ccc215e88",
       "version_major": 2,
       "version_minor": 0
      },
      "text/plain": [
       "  0%|          | 0/20 [00:00<?, ?it/s]"
      ]
     },
     "metadata": {},
     "output_type": "display_data"
    },
    {
     "data": {
      "image/png": "[encoded data removed]",
      "text/plain": [
       "<Figure size 800x310 with 2 Axes>"
      ]
     },
     "metadata": {},
     "output_type": "display_data"
    }
   ],
   "source": [
    "# Pooling mr LSTM input into 2D (mean across timesteps)...\n",
    "X_train_flat = X_train.mean(axis=1)\n",
    "X_test_flat = X_test.mean(axis=1)\n",
    "\n",
    "# Training a simple surrogate model (e.g., logistic regression)...\n",
    "lr_model = LogisticRegression(random_state=42)\n",
    "lr_model.fit(X_train_flat, y_train)\n",
    "\n",
    "# Explaining the surrogate...\n",
    "background = X_train_flat[np.random.choice(X_train_flat.shape[0], 100, replace=False)]\n",
    "explainer = shap.KernelExplainer(lr_model.predict_proba, background) \n",
    "\n",
    "# Explain only for class index 1 (drowsy class)\n",
    "full_explanation_object = explainer(X_test_flat[:20])\n",
    "\n",
    "shap_values_for_class1 = full_explanation_object.values[:, :, 1]\n",
    "\n",
    "base_values_for_class1 = full_explanation_object.base_values[:, 1]\n",
    "avg_base_value_for_class1 = np.mean(base_values_for_class1) # Calculate the average base value\n",
    "\n",
    "shap_explanation_class_1 = shap.Explanation(\n",
    "    values=shap_values_for_class1,\n",
    "    base_values=avg_base_value_for_class1, # Use the average base value for the plot\n",
    "    data=X_test_flat[:20], # Original feature values for the explained instances\n",
    "    feature_names=['EAR', 'Rolling Mean', 'Delta EAR', 'Eye Closed']\n",
    ")\n",
    "\n",
    "# Plot SHAP for class 1\n",
    "shap.plots.beeswarm(shap_explanation_class_1)"
   ]
  },
  {
   "cell_type": "code",
   "execution_count": null,
   "id": "66f6e781-006b-4230-818d-ebd10a8bec7e",
   "metadata": {},
   "outputs": [],
   "source": []
  }
 ],
 "metadata": {
  "kernelspec": {
   "display_name": "Python 3 (ipykernel)",
   "language": "python",
   "name": "python3"
  },
  "language_info": {
   "codemirror_mode": {
    "name": "ipython",
    "version": 3
   },
   "file_extension": ".py",
   "mimetype": "text/x-python",
   "name": "python",
   "nbconvert_exporter": "python",
   "pygments_lexer": "ipython3",
   "version": "3.9.23"
  }
 },
 "nbformat": 4,
 "nbformat_minor": 5
}
