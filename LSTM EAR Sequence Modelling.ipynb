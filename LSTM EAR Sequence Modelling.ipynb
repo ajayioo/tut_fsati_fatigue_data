{
 "cells": [
  {
   "cell_type": "markdown",
   "id": "0f8501d6-fadd-4d91-bb5c-23ca8d1e87fe",
   "metadata": {},
   "source": [
    "## loading libraries and dataset..."
   ]
  },
  {
   "cell_type": "code",
   "execution_count": null,
   "id": "4c8ab6b9-91e4-4469-bffb-299238c5c435",
   "metadata": {},
   "outputs": [],
   "source": [
    "import numpy as np\n",
    "import pandas as pd\n",
    "import tensorflow as tf\n",
    "from tensorflow.keras.models import Sequential\n",
    "from tensorflow.keras.layers import Input, LSTM, Dense, Dropout\n",
    "from sklearn.metrics import classification_report, confusion_matrix\n",
    "import shap\n",
    "import matplotlib.pyplot as plt\n",
    "import random, os\n",
    "from sklearn.linear_model import LogisticRegression\n",
    "\n",
    "# Loading and re-sorting for temporal order...\n",
    "df = pd.read_csv(\"C:/Users/LATITUDE E7470/Desktop/ajcodes/research/fatigueanalysis1/eye_features.csv\")\n",
    "df = df.sort_values(by='image_name').reset_index(drop=True)\n",
    "\n",
    "# Feature engineering\n",
    "df['ear_rolling_mean'] = df['ear'].rolling(window=5, min_periods=1).mean()\n",
    "df['ear_delta'] = df['ear'].diff().fillna(0)\n",
    "df['eye_closed'] = df['ear'].apply(lambda x: 1 if x < 0.21 else 0)\n",
    "\n",
    "# Choosing features for LSTM input\n",
    "features = df[['ear', 'ear_rolling_mean', 'ear_delta', 'eye_closed']].values\n",
    "labels = df['label'].values\n",
    "\n",
    "# Generating sequences...\n",
    "SEQ_LEN = 10\n",
    "X_seq, y_seq = [], []\n",
    "\n",
    "for i in range(len(features) - SEQ_LEN):\n",
    "    X_seq.append(features[i:i+SEQ_LEN])\n",
    "    y_seq.append(labels[i+SEQ_LEN - 1])  # use label of last frame\n",
    "\n",
    "X_seq = np.array(X_seq)\n",
    "y_seq = np.array(y_seq)\n",
    "\n",
    "print(\"Shape of sequence data:\", X_seq.shape)  # (samples, time_steps, features)\n"
   ]
  },
  {
   "cell_type": "markdown",
   "id": "848bc167-e254-4048-8bca-2a3c4201a193",
   "metadata": {},
   "source": [
    "## splitting into train/test set..."
   ]
  },
  {
   "cell_type": "code",
   "execution_count": null,
   "id": "f0220375-30e8-458f-88b5-a1d807516418",
   "metadata": {},
   "outputs": [],
   "source": [
    "from sklearn.model_selection import train_test_split\n",
    "\n",
    "X_train, X_test, y_train, y_test = train_test_split(\n",
    "    X_seq, y_seq, test_size=0.3, random_state=42, stratify=y_seq\n",
    ")"
   ]
  },
  {
   "cell_type": "markdown",
   "id": "4f422fa9-cbc4-4102-abe3-437393de9926",
   "metadata": {},
   "source": [
    "## coding for LSTM Model..."
   ]
  },
  {
   "cell_type": "code",
   "execution_count": null,
   "id": "18d79f93-4ac5-4fa4-b20d-022485e490ce",
   "metadata": {},
   "outputs": [],
   "source": [
    "model = Sequential([\n",
    "    Input(shape=(SEQ_LEN, X_seq.shape[2])),  # Defining input shape...\n",
    "    LSTM(64, return_sequences=False),\n",
    "    Dropout(0.3),\n",
    "    Dense(32, activation='relu'),\n",
    "    Dropout(0.2),\n",
    "    Dense(1, activation='sigmoid')\n",
    "])\n",
    "\n",
    "model.compile(loss='binary_crossentropy', optimizer='adam', metrics=['accuracy'])\n",
    "\n",
    "history = model.fit(X_train, y_train, epochs=10, batch_size=64, validation_data=(X_test, y_test))"
   ]
  },
  {
   "cell_type": "markdown",
   "id": "37192091-2ae6-48d1-b585-d315ba6aa9a0",
   "metadata": {},
   "source": [
    "## evaluating the LSTM Model...."
   ]
  },
  {
   "cell_type": "code",
   "execution_count": null,
   "id": "38f3edd2-3776-4ea7-9aa7-7f0b98e9e077",
   "metadata": {},
   "outputs": [],
   "source": [
    "seed = 42\n",
    "tf.random.set_seed(seed)\n",
    "np.random.seed(seed)\n",
    "random.seed(seed)\n",
    "os.environ['PYTHONHASHSEED'] = str(seed)\n",
    "\n",
    "y_pred_prob = model.predict(X_test)\n",
    "y_pred = (y_pred_prob > 0.5).astype(\"int32\")\n",
    "\n",
    "print(confusion_matrix(y_test, y_pred))\n",
    "print(classification_report(y_test, y_pred))"
   ]
  },
  {
   "cell_type": "code",
   "execution_count": null,
   "id": "5ede06d2-01fc-44fb-8353-52340ab71340",
   "metadata": {},
   "outputs": [],
   "source": [
    "# Save the model\n",
    "model.save(\"ear_lstm_model.h5\")"
   ]
  },
  {
   "cell_type": "markdown",
   "id": "5ed49900-01b9-46c5-8ac0-9ed052fa9819",
   "metadata": {},
   "source": [
    "## Reloading it cleanly outside training context..."
   ]
  },
  {
   "cell_type": "code",
   "execution_count": null,
   "id": "601c2af0-c047-4f7f-aef5-d013fd0314bb",
   "metadata": {},
   "outputs": [],
   "source": [
    "from keras.models import load_model\n",
    "model = load_model(\"ear_lstm_model.h5\")"
   ]
  },
  {
   "cell_type": "markdown",
   "id": "b31149d2-792a-44f0-93ac-219d226d7ec0",
   "metadata": {},
   "source": [
    "## implementing SHAP for LSTM..."
   ]
  },
  {
   "cell_type": "code",
   "execution_count": null,
   "id": "b129d2b2-7ef3-4a17-a94e-8262176817b4",
   "metadata": {},
   "outputs": [],
   "source": [
    "# Use SHAP safely with permutation explainer\n",
    "explainer = shap.Explainer(model.predict, X_train[:50], algorithm=\"permutation\")\n",
    "shap_values = explainer(X_test[:10])  # keep it small\n",
    "\n",
    "shap.plots.beeswarm(shap_values, feature_names=['EAR', 'Rolling Mean', 'Delta EAR', 'Eye Closed'])"
   ]
  },
  {
   "cell_type": "code",
   "execution_count": null,
   "id": "0c84e713-386d-4598-aa99-019655a85ee4",
   "metadata": {},
   "outputs": [],
   "source": []
  }
 ],
 "metadata": {
  "kernelspec": {
   "display_name": "Python 3 (ipykernel)",
   "language": "python",
   "name": "python3"
  },
  "language_info": {
   "codemirror_mode": {
    "name": "ipython",
    "version": 3
   },
   "file_extension": ".py",
   "mimetype": "text/x-python",
   "name": "python",
   "nbconvert_exporter": "python",
   "pygments_lexer": "ipython3",
   "version": "3.9.23"
  }
 },
 "nbformat": 4,
 "nbformat_minor": 5
}
